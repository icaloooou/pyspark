{
  "cells": [
    {
      "cell_type": "markdown",
      "id": "ae2737a8",
      "metadata": {
        "id": "ae2737a8"
      },
      "source": [
        "### Criando conexão"
      ]
    },
    {
      "cell_type": "code",
      "execution_count": 3,
      "id": "5bd1737a",
      "metadata": {
        "id": "5bd1737a"
      },
      "outputs": [],
      "source": [
        "import pyspark\n",
        "from pyspark.sql import SparkSession\n",
        "from pyspark.sql import functions as F\n",
        "spark = SparkSession.builder.getOrCreate()"
      ]
    },
    {
      "cell_type": "markdown",
      "id": "16fa9ea5",
      "metadata": {
        "id": "16fa9ea5"
      },
      "source": [
        "## Faça você mesmo: \n",
        "### (Resolva com dataframes e faça joins se necessário)"
      ]
    },
    {
      "cell_type": "markdown",
      "id": "1362986e-72a7-41e4-959d-8eb109b8ece4",
      "metadata": {
        "id": "1362986e-72a7-41e4-959d-8eb109b8ece4"
      },
      "source": [
        "## Leitura de dados"
      ]
    },
    {
      "cell_type": "code",
      "execution_count": 6,
      "id": "9f5335d7-31f2-4c42-9311-789268c7a578",
      "metadata": {
        "id": "9f5335d7-31f2-4c42-9311-789268c7a578"
      },
      "outputs": [],
      "source": [
        "clientes = spark.read.format('parquet').load('/Clientes.parquet')"
      ]
    },
    {
      "cell_type": "code",
      "execution_count": 7,
      "id": "df9a90f7-3998-4a2a-bddb-b63381ad49f3",
      "metadata": {
        "id": "df9a90f7-3998-4a2a-bddb-b63381ad49f3"
      },
      "outputs": [],
      "source": [
        "vendas = spark.read.parquet('/Vendas.parquet')"
      ]
    },
    {
      "cell_type": "markdown",
      "id": "d05cad81",
      "metadata": {
        "id": "d05cad81"
      },
      "source": [
        "1. Crie uma consulta que mostre, nesta ordem, NOME, ESTADOS E STATUS dos clientes"
      ]
    },
    {
      "cell_type": "code",
      "execution_count": 8,
      "id": "27f8da25",
      "metadata": {
        "colab": {
          "base_uri": "https://localhost:8080/"
        },
        "id": "27f8da25",
        "outputId": "ea47d36f-7114-4758-e1f4-0bb9570087f2"
      },
      "outputs": [
        {
          "output_type": "stream",
          "name": "stdout",
          "text": [
            "+---------+--------------------+------+------+------+\n",
            "|ClienteID|             Cliente|Estado|Genero|Status|\n",
            "+---------+--------------------+------+------+------+\n",
            "|        1|Adelina Buenaventura|    RJ|     M|Silver|\n",
            "|        2|        Adelino Gago|    RJ|     M|Silver|\n",
            "+---------+--------------------+------+------+------+\n",
            "only showing top 2 rows\n",
            "\n"
          ]
        }
      ],
      "source": [
        "clientes.show(2)"
      ]
    },
    {
      "cell_type": "code",
      "execution_count": 9,
      "id": "8a8c17dc-64aa-4ee0-a0f4-a2b93059420b",
      "metadata": {
        "colab": {
          "base_uri": "https://localhost:8080/"
        },
        "id": "8a8c17dc-64aa-4ee0-a0f4-a2b93059420b",
        "outputId": "b4206939-8a8a-41ce-ae36-c190121035ff"
      },
      "outputs": [
        {
          "output_type": "stream",
          "name": "stdout",
          "text": [
            "+--------------------+------+--------+\n",
            "|             Cliente|Estado|  Status|\n",
            "+--------------------+------+--------+\n",
            "|Adelina Buenaventura|    RJ|  Silver|\n",
            "|        Adelino Gago|    RJ|  Silver|\n",
            "|     Adolfo Patrício|    PE|  Silver|\n",
            "|    Adriana Guedelha|    RO|Platinum|\n",
            "|       Adélio Lisboa|    SE|  Silver|\n",
            "+--------------------+------+--------+\n",
            "only showing top 5 rows\n",
            "\n"
          ]
        }
      ],
      "source": [
        "clientes.select('Cliente', 'Estado', 'Status').show(5)"
      ]
    },
    {
      "cell_type": "markdown",
      "id": "328e44fc",
      "metadata": {
        "id": "328e44fc"
      },
      "source": [
        "2. Crie uma consulta que mostre apenas os clientes do status platinum e gold"
      ]
    },
    {
      "cell_type": "code",
      "execution_count": 10,
      "id": "9ab39a14",
      "metadata": {
        "colab": {
          "base_uri": "https://localhost:8080/"
        },
        "id": "9ab39a14",
        "outputId": "15ab8aa6-48a4-4e6e-8fc4-13ee01fdd8f7"
      },
      "outputs": [
        {
          "output_type": "stream",
          "name": "stdout",
          "text": [
            "+-------------------+--------+\n",
            "|            Cliente|  Status|\n",
            "+-------------------+--------+\n",
            "|      Carminda Dias|    Gold|\n",
            "|   Alberto Monsanto|    Gold|\n",
            "|   Firmino Meireles|    Gold|\n",
            "|Honorina Villaverde|    Gold|\n",
            "|  Iracema Rodríguez|    Gold|\n",
            "|      Cláudio Jorge|    Gold|\n",
            "|      Anna Carvajal|    Gold|\n",
            "|    Dionísio Saltão|    Gold|\n",
            "|      Bento Quintão|    Gold|\n",
            "|   Adriana Guedelha|Platinum|\n",
            "|      Flor Vilanova|Platinum|\n",
            "|    Ibijara Botelho|Platinum|\n",
            "|         Joana Ataí|Platinum|\n",
            "+-------------------+--------+\n",
            "\n"
          ]
        }
      ],
      "source": [
        "clientes.select('Cliente', 'Status').where((F.col('Status')=='Platinum')|(F.col('Status')=='Gold')).orderBy('Status').show()"
      ]
    },
    {
      "cell_type": "markdown",
      "id": "a59169d9",
      "metadata": {
        "id": "a59169d9"
      },
      "source": [
        "3. Demonstre quanto cada status de clientes representa em vendas"
      ]
    },
    {
      "cell_type": "code",
      "execution_count": 11,
      "id": "66bcdbab-68f7-4d37-b242-a32407c7d8a8",
      "metadata": {
        "colab": {
          "base_uri": "https://localhost:8080/"
        },
        "id": "66bcdbab-68f7-4d37-b242-a32407c7d8a8",
        "outputId": "b96aac76-14bb-4c7c-d151-1ee298c4da0a"
      },
      "outputs": [
        {
          "output_type": "stream",
          "name": "stdout",
          "text": [
            "+--------+------------------+\n",
            "|  Status|        sum(Total)|\n",
            "+--------+------------------+\n",
            "|Platinum|          12584.68|\n",
            "|  Silver|        3014291.36|\n",
            "|    Gold|27286.690000000002|\n",
            "+--------+------------------+\n",
            "\n"
          ]
        }
      ],
      "source": [
        "vendas.join(clientes, vendas.ClienteID == clientes.ClienteID).groupBy(clientes.Status).agg(F.sum('Total')).show()"
      ]
    }
  ],
  "metadata": {
    "kernelspec": {
      "display_name": "Python 3 (ipykernel)",
      "language": "python",
      "name": "python3"
    },
    "language_info": {
      "codemirror_mode": {
        "name": "ipython",
        "version": 3
      },
      "file_extension": ".py",
      "mimetype": "text/x-python",
      "name": "python",
      "nbconvert_exporter": "python",
      "pygments_lexer": "ipython3",
      "version": "3.9.7"
    },
    "colab": {
      "name": "Formação Spark com Pyspark.ipynb",
      "provenance": []
    }
  },
  "nbformat": 4,
  "nbformat_minor": 5
}